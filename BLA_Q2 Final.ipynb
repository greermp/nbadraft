{
 "cells": [
  {
   "cell_type": "code",
   "execution_count": 1,
   "metadata": {},
   "outputs": [],
   "source": [
    "import pandas as pd\n",
    "import numpy as np\n",
    "import csv"
   ]
  },
  {
   "cell_type": "code",
   "execution_count": 3,
   "metadata": {
    "collapsed": true,
    "jupyter": {
     "outputs_hidden": true
    }
   },
   "outputs": [],
   "source": [
    "def findFixedTeam(probs,remainingProbs,restProb):\n",
    "    for i in range(11):\n",
    "        nonzeros = [j for j, e in enumerate(probs) if e!=0]\n",
    "        team=min(nonzeros)\n",
    "        remainingProbs[i][team]=remainingProbs[i][team] + restProb\n",
    "        probs[team] = 0.\n",
    "    return remainingProbs\n",
    "\n",
    "remainingProbs   = [[0. for x in range(16)] for y in range(11)]\n",
    "# remainingProbs"
   ]
  },
  {
   "cell_type": "code",
   "execution_count": 4,
   "metadata": {},
   "outputs": [],
   "source": [
    "#Setting Draft Lottery Probabilities\n",
    "\n",
    "initialProbs = [.114, .113, .112, .111, .099, .089, .079, .069, .059, .049, .039, .029, .019, .009, .006, .004]\n",
    "secondProbs = [0.,0.,0.,0.,0.,0.,0.,0.,0.,0.,0.,0.,0.,0.,0.,0.]\n",
    "thirdProbs = [0.,0.,0.,0.,0.,0.,0.,0.,0.,0.,0.,0.,0.,0.,0.,0.]\n",
    "fourthProbs = [0.,0.,0.,0.,0.,0.,0.,0.,0.,0.,0.,0.,0.,0.,0.,0.]\n",
    "fifthProbs = [0.,0.,0.,0.,0.,0.,0.,0.,0.,0.,0.,0.,0.,0.,0.,0.]"
   ]
  },
  {
   "cell_type": "code",
   "execution_count": 5,
   "metadata": {},
   "outputs": [
    {
     "output_type": "stream",
     "name": "stdout",
     "text": [
      "[0.11046816539648968, 0.1096429338915086, 0.10881483649539843, 0.10798388287933292, 0.09779311603057485, 0.0889993169632134, 0.07994095605882101, 0.07062655840344596, 0.06106428669903238, 0.05126196031621248, 0.041227073157537895, 0.030966810416907364, 0.020488064313952562, 0.009797448875787242, 0.006549905693758736, 0.004374684408026338]\n"
     ]
    }
   ],
   "source": [
    "for i in range(16):\n",
    "    firstRemoved = initialProbs[:i]+[0.]+initialProbs[i+1:]\n",
    "    totalProb = sum(firstRemoved)\n",
    "    conditionalProbs = [initialProbs[i]*x/totalProb for x in firstRemoved]\n",
    "    secondProbs = [x + y for x,y in zip(secondProbs,conditionalProbs)]\n",
    "\n",
    "print(secondProbs)\n",
    "secondProbsSave = secondProbs"
   ]
  },
  {
   "cell_type": "code",
   "execution_count": 6,
   "metadata": {},
   "outputs": [
    {
     "output_type": "stream",
     "name": "stdout",
     "text": [
      "[0.1065373303971223, 0.10589319365205459, 0.10524385839395108, 0.10458931994097552, 0.09632773500108896, 0.08886742904494048, 0.08088411382279348, 0.072380311526806, 0.06336026693716985, 0.053829625540110046, 0.043795163579557046, 0.03326456145786906, 0.02224621341173762, 0.010749067614519209, 0.007207949862083267, 0.004823859817221329]\n"
     ]
    }
   ],
   "source": [
    "for i in range(16):\n",
    "    firstRemoved = initialProbs[:i]+[0.]+initialProbs[i+1:]\n",
    "    totalProb = sum(firstRemoved)\n",
    "    conditionalProbs = [initialProbs[i]*x/totalProb for x in firstRemoved]\n",
    "    secondProbs = [x + y for x,y in zip(secondProbs,conditionalProbs)]\n",
    "\n",
    "    for j in range(16):\n",
    "        if i != j:\n",
    "            secondRemoved = firstRemoved[:j]+[0.]+firstRemoved[j+1:]\n",
    "            totalProb = sum(secondRemoved)\n",
    "            conditionalProbs2 = [conditionalProbs[j]*x/totalProb for x in secondRemoved]\n",
    "            thirdProbs = [x + y for x,y in zip(thirdProbs,conditionalProbs2)]\n",
    "\n",
    "print(thirdProbs)\n",
    "thirdProbsSave = thirdProbs"
   ]
  },
  {
   "cell_type": "code",
   "execution_count": 7,
   "metadata": {},
   "outputs": [
    {
     "output_type": "stream",
     "name": "stdout",
     "text": [
      "[0.10212448692362917, 0.10166735974274659, 0.10120334840716977, 0.10073241398658517, 0.09452774193034068, 0.08854832256894488, 0.08180291366397417, 0.07426899742757236, 0.06592974580675946, 0.05677359375941363, 0.04679372502853851, 0.03598752964897639, 0.02435606887828487, 0.011903568116122925, 0.008008686847560276, 0.005371497263380327]\n"
     ]
    }
   ],
   "source": [
    "for i in range(16):\n",
    "    firstRemoved = initialProbs[:i]+[0.]+initialProbs[i+1:]\n",
    "    totalProb = sum(firstRemoved)\n",
    "    conditionalProbs = [initialProbs[i]*x/totalProb for x in firstRemoved]\n",
    "    secondProbs = [x + y for x,y in zip(secondProbs,conditionalProbs)]\n",
    "\n",
    "    for j in range(16):\n",
    "            if i != j:\n",
    "                secondRemoved = firstRemoved[:j]+[0.]+firstRemoved[j+1:]\n",
    "                totalProb = sum(secondRemoved)\n",
    "                conditionalProbs2 = [conditionalProbs[j]*x/totalProb for x in secondRemoved]\n",
    "                thirdProbs = [x + y for x,y in zip(thirdProbs,conditionalProbs2)]\n",
    "\n",
    "\n",
    "                for k in range(16):\n",
    "                    if i != k:\n",
    "                        thirdRemoved = secondRemoved[:k]+[0.]+secondRemoved[k+1:]\n",
    "                        totalProb = sum(thirdRemoved)\n",
    "                        conditionalProbs3 = [conditionalProbs2[k]*x/totalProb for x in thirdRemoved]\n",
    "                        fourthProbs = [x + y for x,y in zip(fourthProbs,conditionalProbs3)]\n",
    "\n",
    "print(fourthProbs)\n",
    "fourthProbsSave = fourthProbs"
   ]
  },
  {
   "cell_type": "code",
   "execution_count": 8,
   "metadata": {},
   "outputs": [],
   "source": [
    "#problem cell\n",
    "for i in range(16):\n",
    "    firstRemoved = initialProbs[:i]+[0.]+initialProbs[i+1:]\n",
    "    totalProb = sum(firstRemoved)\n",
    "    conditionalProbs = [initialProbs[i]*x/totalProb for x in firstRemoved]\n",
    "    secondProbs = [x + y for x,y in zip(secondProbs,conditionalProbs)]\n",
    "\n",
    "    for j in range(16):\n",
    "            if i != j:\n",
    "                secondRemoved = firstRemoved[:j]+[0.]+firstRemoved[j+1:]\n",
    "                totalProb = sum(secondRemoved)\n",
    "                conditionalProbs2 = [conditionalProbs[j]*x/totalProb for x in secondRemoved]\n",
    "                thirdProbs = [x + y for x,y in zip(thirdProbs,conditionalProbs2)]\n",
    "\n",
    "\n",
    "                for k in range(16):\n",
    "                    if i != k:\n",
    "                        thirdRemoved = secondRemoved[:k]+[0.]+secondRemoved[k+1:]\n",
    "                        totalProb = sum(thirdRemoved)\n",
    "                        conditionalProbs3 = [conditionalProbs2[k]*x/totalProb for x in thirdRemoved]\n",
    "                        fourthProbs = [x + y for x,y in zip(fourthProbs,conditionalProbs3)]\n",
    "                        \n",
    "                        \n",
    "                        for l in range(16):\n",
    "                            if i != l:\n",
    "                                fourthRemoved = thirdRemoved[:l]+[0.]+thirdRemoved[l+1:]\n",
    "                                totalProb = sum(fourthRemoved)\n",
    "                                conditionalProbs4 = [conditionalProbs3[l]*x/totalProb for x in fourthRemoved]\n",
    "                                fifthProbs = [x + y for x,y in zip(fifthProbs, conditionalProbs4)]\n",
    "                                \n",
    "                                for m in range(16):\n",
    "                                    if (i != m) and (j != m) and (k != m) and (l != m):\n",
    "                                        restProb = conditionalProbs4[m]\n",
    "                                        #print(i,j,k,l,m,restProb)\n",
    "                                        fifthRemoved = fourthRemoved[:m]+[0.]+fourthRemoved[m+1:]\n",
    "                                        remainingProbs = findFixedTeam(fifthRemoved,remainingProbs,restProb)"
   ]
  },
  {
   "cell_type": "code",
   "execution_count": 9,
   "metadata": {},
   "outputs": [
    {
     "output_type": "stream",
     "name": "stdout",
     "text": [
      "[0.09712151714199804, 0.09685630298971462, 0.09658330074843391, 0.09630242359110937, 0.09228620874578738, 0.0879574131157293, 0.08265032351162331, 0.07629279190608827, 0.06882239971637381, 0.06018736672313717, 0.05034669390292227, 0.039269774467416675, 0.02693567065536845, 0.013332205696578949, 0.009002796475356562, 0.006052810612364831]\n"
     ]
    }
   ],
   "source": [
    "print(fifthProbs)\n",
    "fifthProbsSave = fifthProbs"
   ]
  },
  {
   "cell_type": "code",
   "execution_count": 10,
   "metadata": {},
   "outputs": [
    {
     "output_type": "stream",
     "name": "stdout",
     "text": [
      "[0.46974850014076586, 0.273959687126413, 0.14774425983451964, 0.07130598531453738, 0.029955432696845814, 0.007286134886921826, 0.0, 0.0, 0.0, 0.0, 0.0, 0.0, 0.0, 0.0, 0.0, 0.0]\n[0.0, 0.19898052259756555, 0.25441802088221555, 0.2291517409173864, 0.17890173563285072, 0.10339999897680466, 0.035147980993184016, 0.0, 0.0, 0.0, 0.0, 0.0, 0.0, 0.0, 0.0, 0.0]\n[0.0, 0.0, 0.07399237523831564, 0.15560472669477476, 0.22585265929678763, 0.2478278866497863, 0.20078256672165992, 0.09593978539867602, 0.0, 0.0, 0.0, 0.0, 0.0, 0.0, 0.0, 0.0]\n[0.0, 0.0, 0.0, 0.023329506675296277, 0.078714529750046, 0.16377797879000183, 0.2524570991395996, 0.28655237002322426, 0.1951685156218349, 0.0, 0.0, 0.0, 0.0, 0.0, 0.0, 0.0]\n[0.0, 0.0, 0.0, 0.0, 0.006640840915682167, 0.03270689374296664, 0.09571829387835686, 0.20587069807758324, 0.3301662265628834, 0.3288970468225329, 0.0, 0.0, 0.0, 0.0, 0.0, 0.0]\n[0.0, 0.0, 0.0, 0.0, 0.0, 0.001628625260691197, 0.011285821818687833, 0.045859964704446414, 0.1380359489933816, 0.3188260098322746, 0.48436362939052324, 0.0, 0.0, 0.0, 0.0, 0.0]\n[0.0, 0.0, 0.0, 0.0, 0.0, 0.0, 0.0003299303912972046, 0.0031564409816053646, 0.01776407231543626, 0.07576330883296031, 0.26017352930690874, 0.6428127181717973, 0.0, 0.0, 0.0, 0.0]\n[0.0, 0.0, 0.0, 0.0, 0.0, 0.0, 0.0, 5.208155055701581e-05, 0.0006826178206769993, 0.00535411290804277, 0.033103748663599906, 0.1774452665329281, 0.7833621725241947, 0.0, 0.0, 0.0]\n[0.0, 0.0, 0.0, 0.0, 0.0, 0.0, 0.0, 0.0, 5.919526457032072e-06, 0.00010653910446781972, 0.0011854153161169566, 0.01107044910380671, 0.10073551563764219, 0.8868961613115006, 0.0, 0.0]\n[0.0, 0.0, 0.0, 0.0, 0.0, 0.0, 0.0, 0.0, 0.0, 4.361608510786166e-07, 1.1005265624582802e-05, 0.00018227778242382872, 0.0028592432732589767, 0.05768720707085679, 0.9392598304469509, 0.0]\n[0.0, 0.0, 0.0, 0.0, 0.0, 0.0, 0.0, 0.0, 0.0, 0.0, 1.638867313341519e-08, 6.124178782439893e-07, 1.7051305560957846e-05, 0.000634341314623523, 0.023970830674257072, 0.975377147898979]\n"
     ]
    }
   ],
   "source": [
    "for x in remainingProbs:\n",
    "    print (x)"
   ]
  },
  {
   "cell_type": "code",
   "execution_count": 11,
   "metadata": {},
   "outputs": [],
   "source": [
    "#for m in range(16):\n",
    " #   if (i != m) and (j != m) and (k != m) and (l != m):\n",
    "  #      restProb = conditionalProbs4[m]\n",
    "   #     fifthRemoved = fourthRemoved[:m]+[0.]+fourthRemoved[m+1:]\n",
    "    #    remainingProbs = findFixedTeam(fifthRemoved,remainingProbs,restProb)"
   ]
  },
  {
   "cell_type": "code",
   "execution_count": null,
   "metadata": {},
   "outputs": [],
   "source": [
    "# secondProbs"
   ]
  },
  {
   "cell_type": "code",
   "execution_count": 12,
   "metadata": {},
   "outputs": [
    {
     "output_type": "execute_result",
     "data": {
      "text/plain": [
       "[1, 2, 3, 4, 5, 6, 7, 8, 9, 10, 11, 12, 13, 14, 15, 16]"
      ]
     },
     "metadata": {},
     "execution_count": 12
    }
   ],
   "source": [
    "teams= list(range(1,17))\n",
    "teams"
   ]
  },
  {
   "cell_type": "code",
   "execution_count": 14,
   "metadata": {},
   "outputs": [
    {
     "output_type": "execute_result",
     "data": {
      "text/plain": [
       "[0.0,\n",
       " 0.0,\n",
       " 0.0,\n",
       " 0.0,\n",
       " 0.0,\n",
       " 0.0,\n",
       " 0.0,\n",
       " 0.0,\n",
       " 0.0,\n",
       " 0.0,\n",
       " 1.638867313341519e-08,\n",
       " 6.124178782439893e-07,\n",
       " 1.7051305560957846e-05,\n",
       " 0.000634341314623523,\n",
       " 0.023970830674257072,\n",
       " 0.975377147898979]"
      ]
     },
     "metadata": {},
     "execution_count": 14
    }
   ],
   "source": [
    "remainingProbs[10]"
   ]
  },
  {
   "cell_type": "code",
   "execution_count": 17,
   "metadata": {},
   "outputs": [],
   "source": [
    "dict = {'Team Number': teams,\n",
    "        'first': initialProbs,\n",
    "        'second': secondProbsSave,\n",
    "        'third': thirdProbsSave,\n",
    "        'fourth': fourthProbsSave, \n",
    "        'fifth': fifthProbsSave, \n",
    "        'sixth': remainingProbs[0], \n",
    "        'seventh':remainingProbs[1], \n",
    "        'eighth':remainingProbs[2], \n",
    "        'ninth':remainingProbs[3], \n",
    "        'tenth':remainingProbs[4], \n",
    "        'eleventh':remainingProbs[5], \n",
    "        'twelfth':remainingProbs[6], \n",
    "        'thirteenth':remainingProbs[7], \n",
    "        'fourteenth':remainingProbs[8], \n",
    "        'fifteenth':remainingProbs[9], \n",
    "        'sixteenth':remainingProbs[10]}\n",
    "\n",
    "df=pd.DataFrame(dict)\n",
    "# df.reset_index(drop=True, inplace=True)\n",
    "df=df.round(3)\n",
    "df.to_csv('GFY.csv', index=False)"
   ]
  },
  {
   "cell_type": "code",
   "execution_count": null,
   "metadata": {},
   "outputs": [],
   "source": []
  }
 ],
 "metadata": {
  "kernelspec": {
   "display_name": "Python 3",
   "language": "python",
   "name": "python3"
  },
  "language_info": {
   "codemirror_mode": {
    "name": "ipython",
    "version": 3
   },
   "file_extension": ".py",
   "mimetype": "text/x-python",
   "name": "python",
   "nbconvert_exporter": "python",
   "pygments_lexer": "ipython3",
   "version": "3.8.5-final"
  }
 },
 "nbformat": 4,
 "nbformat_minor": 4
}